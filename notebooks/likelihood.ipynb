{
 "cells": [
  {
   "cell_type": "markdown",
   "metadata": {},
   "source": [
    "Il Likelihood Ratio è un metodo statistico utilizzato per confrontare due ipotesi o modelli basati sulla probabilità (likelihood) dei dati osservati. Di seguito ti spiego in poche parole come funziona in ciascuno dei casi che hai menzionato:\n",
    "\n",
    "Entrambe le likelihood sono funzioni teoriche:\n",
    "\n",
    "Il Likelihood Ratio confronta due modelli teorici calcolando il rapporto tra le loro likelihoods. Si calcola la likelihood per ogni modello dato lo stesso insieme di dati, e si prende il rapporto tra di esse. Questo rapporto indica quale modello è più supportato dai dati.\n",
    "Una delle likelihood è un istogramma ricavato dai dati mentre l'altra è una funzione teorica:\n",
    "\n",
    "In questo caso, la likelihood derivata dai dati viene confrontata con la likelihood teorica. Si calcola la likelihood teorica per ogni dato, e si usa l'istogramma per approssimare la distribuzione dei dati osservati. Il Likelihood Ratio sarà il rapporto tra la probabilità stimata dai dati (attraverso l'istogramma) e quella teorica.\n",
    "Entrambe le likelihood sono istogrammi con lo stesso binning e range:\n",
    "\n",
    "Con istogrammi con lo stesso binning e range, si confrontano direttamente i valori di frequenza per ogni bin. Il Likelihood Ratio è il rapporto delle frequenze nei bin corrispondenti tra i due istogrammi.\n",
    "Entrambe le likelihood sono istogrammi ma hanno binning e range diversi:\n",
    "\n",
    "In questo caso, prima di calcolare il Likelihood Ratio, è necessario uniformare il binning e il range dei due istogrammi. Questo può richiedere interpolazione o altre tecniche per rendere comparabili i due istogrammi. Una volta uniformati, si può calcolare il rapporto delle frequenze per ogni bin corrispondente.\n",
    "In tutti questi casi, il Likelihood Ratio aiuta a valutare quale delle due ipotesi o modelli è più plausibile dato il set di dati osservati."
   ]
  },
  {
   "cell_type": "code",
   "execution_count": 4,
   "metadata": {},
   "outputs": [
    {
     "data": {
      "text/plain": [
       "391.91431698409707"
      ]
     },
     "execution_count": 4,
     "metadata": {},
     "output_type": "execute_result"
    }
   ],
   "source": [
    "# 1. Entrambe le likelihood sono funzioni teoriche\n",
    "\n",
    "import math\n",
    "\n",
    "# Likelihood per il modello normale\n",
    "def likelihood_normal(data, mu, sigma):\n",
    "    likelihood = 1\n",
    "    for x in data:\n",
    "        likelihood *= (1 / (math.sqrt(2 * math.pi) * sigma)) * math.exp(-0.5 * ((x - mu) / sigma) ** 2)\n",
    "    return likelihood\n",
    "\n",
    "# Likelihood per il modello esponenziale\n",
    "def likelihood_exponential(data, lambd):\n",
    "    likelihood = 1\n",
    "    for x in data:\n",
    "        likelihood *= lambd * math.exp(-lambd * x)\n",
    "    return likelihood\n",
    "\n",
    "# Dati osservati\n",
    "data = [1.2, 1.8, 1.4, 2.0, 1.6]\n",
    "\n",
    "# Calcolo della likelihood per ciascun modello\n",
    "likelihood_normal_value = likelihood_normal(data, mu=1.5, sigma=0.5)\n",
    "likelihood_exponential_value = likelihood_exponential(data, lambd=1.0)\n",
    "\n",
    "# Likelihood ratio\n",
    "likelihood_ratio = likelihood_normal_value / likelihood_exponential_value\n",
    "likelihood_ratio\n"
   ]
  },
  {
   "cell_type": "code",
   "execution_count": 5,
   "metadata": {},
   "outputs": [
    {
     "data": {
      "text/plain": [
       "3.619451618007892"
      ]
     },
     "execution_count": 5,
     "metadata": {},
     "output_type": "execute_result"
    }
   ],
   "source": [
    "# 2. Una delle likelihood è un istogramma ricavato dai dati mentre l'altra è una funzione teorica\n",
    "\n",
    "# Istogramma dei dati (frequenze osservate)\n",
    "histogram = {1: 2, 2: 3, 3: 1}\n",
    "\n",
    "# Funzione teorica normale\n",
    "def normal_pdf(x, mu, sigma):\n",
    "    return (1 / (math.sqrt(2 * math.pi) * sigma)) * math.exp(-0.5 * ((x - mu) / sigma) ** 2)\n",
    "\n",
    "# Calcolo della likelihood per la funzione teorica\n",
    "likelihood_theory = 1\n",
    "for x, freq in histogram.items():\n",
    "    likelihood_theory *= (normal_pdf(x, mu=2, sigma=0.5) ** freq)\n",
    "\n",
    "# Likelihood dal dato osservato (istogramma)\n",
    "likelihood_histogram = 1\n",
    "total_count = sum(histogram.values())\n",
    "for x, freq in histogram.items():\n",
    "    likelihood_histogram *= (freq / total_count) ** freq\n",
    "\n",
    "# Likelihood ratio\n",
    "likelihood_ratio = likelihood_histogram / likelihood_theory\n",
    "likelihood_ratio\n"
   ]
  },
  {
   "cell_type": "code",
   "execution_count": 6,
   "metadata": {},
   "outputs": [
    {
     "data": {
      "text/plain": [
       "0.75"
      ]
     },
     "execution_count": 6,
     "metadata": {},
     "output_type": "execute_result"
    }
   ],
   "source": [
    "# 3. Entrambe le likelihood sono istogrammi con lo stesso binning e range\n",
    "\n",
    "# Due istogrammi con lo stesso binning\n",
    "histogram1 = {1: 2, 2: 3, 3: 1}\n",
    "histogram2 = {1: 3, 2: 2, 3: 2}\n",
    "\n",
    "# Calcolo della likelihood per ciascun istogramma\n",
    "likelihood1 = 1\n",
    "likelihood2 = 1\n",
    "for x in histogram1.keys():\n",
    "    likelihood1 *= (histogram1[x]) ** histogram1[x]\n",
    "    likelihood2 *= (histogram2[x]) ** histogram1[x]\n",
    "\n",
    "# Likelihood ratio\n",
    "likelihood_ratio = likelihood1 / likelihood2\n",
    "likelihood_ratio\n"
   ]
  },
  {
   "cell_type": "code",
   "execution_count": 7,
   "metadata": {},
   "outputs": [
    {
     "data": {
      "text/plain": [
       "202.2716049382716"
      ]
     },
     "execution_count": 7,
     "metadata": {},
     "output_type": "execute_result"
    }
   ],
   "source": [
    "# 4. Entrambe le likelihood sono istogrammi ma hanno binning e range diversi\n",
    "\n",
    "# Due istogrammi con binning diverso\n",
    "histogram1 = {1: 4, 2: 6}\n",
    "histogram2 = {1: 3, 2: 3, 3: 2}\n",
    "\n",
    "# Uniformiamo il binning creando un bin comune\n",
    "common_bins = set(histogram1.keys()).union(set(histogram2.keys()))\n",
    "\n",
    "# Calcoliamo le likelihood sui bin comuni\n",
    "likelihood1 = 1\n",
    "likelihood2 = 1\n",
    "\n",
    "for bin in common_bins:\n",
    "    count1 = histogram1.get(bin, 0)\n",
    "    count2 = histogram2.get(bin, 0)\n",
    "    likelihood1 *= count1 ** count1\n",
    "    likelihood2 *= count2 ** count1  # Usando count1 per normalizzare\n",
    "\n",
    "# Likelihood ratio\n",
    "likelihood_ratio = likelihood1 / likelihood2\n",
    "likelihood_ratio\n"
   ]
  },
  {
   "cell_type": "markdown",
   "metadata": {},
   "source": [
    "rendere il logaritmo della likelihood (log-likelihood) è una pratica comune in statistica e ha diversi vantaggi:\n",
    "\n",
    "Facilità di calcolo:\n",
    "\n",
    "Le likelihood sono prodotti di molte probabilità (o densità di probabilità), che possono essere numeri molto piccoli. Moltiplicare numeri molto piccoli può portare a valori estremamente piccoli, causando problemi di precisione numerica o addirittura \"underflow\" (il risultato diventa zero nel computer). Il logaritmo trasforma la moltiplicazione in somma, il che riduce significativamente il rischio di underflow.\n",
    "Somme al posto di prodotti:\n",
    "\n",
    "Come detto, il logaritmo trasforma un prodotto di probabilità in una somma di logaritmi. Le somme sono più facili da gestire e interpretare rispetto ai prodotti, soprattutto quando si lavora con un grande numero di dati o variabili.\n",
    "Convessità:\n",
    "\n",
    "La funzione log-likelihood tende ad essere concava, il che è utile per i metodi di ottimizzazione. Funzioni concave (o convesse) hanno un unico massimo (o minimo), il che rende più semplice trovare il punto ottimale. La concavità aiuta gli algoritmi di ottimizzazione (come il metodo del gradiente) a convergere più facilmente e rapidamente verso il massimo della likelihood.\n",
    "Interpretazione statistica:\n",
    "\n",
    "Lavorare con la log-likelihood è utile per interpretazioni e analisi statistiche. Ad esempio, i test statistici come il test del rapporto di verosimiglianza (Likelihood Ratio Test) utilizzano la differenza tra log-likelihood di due modelli. Inoltre, derivare la log-likelihood facilita il calcolo di stimatori come il massimo della verosimiglianza (Maximum Likelihood Estimation, MLE).\n",
    "Stabilità numerica:\n",
    "\n",
    "Lavorare con la log-likelihood tende a essere più stabile dal punto di vista numerico. I calcoli su numeri piccoli (come le probabilità) possono facilmente diventare imprecisi. Il logaritmo rende le operazioni numericamente più stabili poiché converte numeri piccoli in numeri più grandi e gestibili."
   ]
  },
  {
   "cell_type": "code",
   "execution_count": 8,
   "metadata": {},
   "outputs": [
    {
     "name": "stdout",
     "output_type": "stream",
     "text": [
      "Likelihood: 0.22313016014842985\n",
      "Log-Likelihood: -1.5\n"
     ]
    }
   ],
   "source": [
    "import math\n",
    "\n",
    "# Dati\n",
    "data = [0.1, 0.3, 0.2, 0.5, 0.4]\n",
    "\n",
    "# Calcolo della likelihood di una distribuzione esponenziale con lambda=1\n",
    "likelihood = 1\n",
    "log_likelihood = 0\n",
    "\n",
    "for x in data:\n",
    "    prob = math.exp(-x)\n",
    "    likelihood *= prob\n",
    "    log_likelihood += math.log(prob)\n",
    "\n",
    "print(\"Likelihood:\", likelihood)\n",
    "print(\"Log-Likelihood:\", log_likelihood)\n"
   ]
  },
  {
   "cell_type": "code",
   "execution_count": 9,
   "metadata": {},
   "outputs": [
    {
     "data": {
      "text/plain": [
       "5.971043236776363"
      ]
     },
     "execution_count": 9,
     "metadata": {},
     "output_type": "execute_result"
    }
   ],
   "source": [
    "import math\n",
    "\n",
    "# Log-Likelihood per il modello normale\n",
    "def log_likelihood_normal(data, mu, sigma):\n",
    "    log_likelihood = 0\n",
    "    for x in data:\n",
    "        log_likelihood += math.log(1 / (math.sqrt(2 * math.pi) * sigma)) - 0.5 * ((x - mu) / sigma) ** 2\n",
    "    return log_likelihood\n",
    "\n",
    "# Log-Likelihood per il modello esponenziale\n",
    "def log_likelihood_exponential(data, lambd):\n",
    "    log_likelihood = 0\n",
    "    for x in data:\n",
    "        log_likelihood += math.log(lambd) - lambd * x\n",
    "    return log_likelihood\n",
    "\n",
    "# Dati osservati\n",
    "data = [1.2, 1.8, 1.4, 2.0, 1.6]\n",
    "\n",
    "# Calcolo della log-likelihood per ciascun modello\n",
    "log_likelihood_normal_value = log_likelihood_normal(data, mu=1.5, sigma=0.5)\n",
    "log_likelihood_exponential_value = log_likelihood_exponential(data, lambd=1.0)\n",
    "\n",
    "# Log-Likelihood ratio\n",
    "log_likelihood_ratio = log_likelihood_normal_value - log_likelihood_exponential_value\n",
    "log_likelihood_ratio\n"
   ]
  },
  {
   "cell_type": "code",
   "execution_count": 10,
   "metadata": {},
   "outputs": [
    {
     "data": {
      "text/plain": [
       "1.2863225276242538"
      ]
     },
     "execution_count": 10,
     "metadata": {},
     "output_type": "execute_result"
    }
   ],
   "source": [
    "# Istogramma dei dati (frequenze osservate)\n",
    "histogram = {1: 2, 2: 3, 3: 1}\n",
    "\n",
    "# Funzione teorica normale\n",
    "def normal_pdf(x, mu, sigma):\n",
    "    return (1 / (math.sqrt(2 * math.pi) * sigma)) * math.exp(-0.5 * ((x - mu) / sigma) ** 2)\n",
    "\n",
    "# Calcolo della log-likelihood per la funzione teorica\n",
    "log_likelihood_theory = 0\n",
    "for x, freq in histogram.items():\n",
    "    log_likelihood_theory += freq * math.log(normal_pdf(x, mu=2, sigma=0.5))\n",
    "\n",
    "# Log-Likelihood dal dato osservato (istogramma)\n",
    "log_likelihood_histogram = 0\n",
    "total_count = sum(histogram.values())\n",
    "for x, freq in histogram.items():\n",
    "    log_likelihood_histogram += freq * math.log(freq / total_count)\n",
    "\n",
    "# Log-Likelihood ratio\n",
    "log_likelihood_ratio = log_likelihood_histogram - log_likelihood_theory\n",
    "log_likelihood_ratio\n"
   ]
  },
  {
   "cell_type": "code",
   "execution_count": 11,
   "metadata": {},
   "outputs": [
    {
     "data": {
      "text/plain": [
       "-0.2876820724517808"
      ]
     },
     "execution_count": 11,
     "metadata": {},
     "output_type": "execute_result"
    }
   ],
   "source": [
    "# Due istogrammi con lo stesso binning\n",
    "histogram1 = {1: 2, 2: 3, 3: 1}\n",
    "histogram2 = {1: 3, 2: 2, 3: 2}\n",
    "\n",
    "# Calcolo della log-likelihood per ciascun istogramma\n",
    "log_likelihood1 = 0\n",
    "log_likelihood2 = 0\n",
    "for x in histogram1.keys():\n",
    "    log_likelihood1 += histogram1[x] * math.log(histogram1[x])\n",
    "    log_likelihood2 += histogram1[x] * math.log(histogram2[x])\n",
    "\n",
    "# Log-Likelihood ratio\n",
    "log_likelihood_ratio = log_likelihood1 - log_likelihood2\n",
    "log_likelihood_ratio\n"
   ]
  },
  {
   "cell_type": "code",
   "execution_count": 12,
   "metadata": {},
   "outputs": [
    {
     "data": {
      "text/plain": [
       "5.3096113731667955"
      ]
     },
     "execution_count": 12,
     "metadata": {},
     "output_type": "execute_result"
    }
   ],
   "source": [
    "# Due istogrammi con binning diverso\n",
    "histogram1 = {1: 4, 2: 6}\n",
    "histogram2 = {1: 3, 2: 3, 3: 2}\n",
    "\n",
    "# Uniformiamo il binning creando un bin comune\n",
    "common_bins = set(histogram1.keys()).union(set(histogram2.keys()))\n",
    "\n",
    "# Calcoliamo le log-likelihood sui bin comuni\n",
    "log_likelihood1 = 0\n",
    "log_likelihood2 = 0\n",
    "\n",
    "for bin in common_bins:\n",
    "    count1 = histogram1.get(bin, 0)\n",
    "    count2 = histogram2.get(bin, 0)\n",
    "    if count1 > 0:\n",
    "        log_likelihood1 += count1 * math.log(count1)\n",
    "    if count2 > 0:\n",
    "        log_likelihood2 += count1 * math.log(count2)  # Usando count1 per normalizzare\n",
    "\n",
    "# Log-Likelihood ratio\n",
    "log_likelihood_ratio = log_likelihood1 - log_likelihood2\n",
    "log_likelihood_ratio\n"
   ]
  },
  {
   "cell_type": "code",
   "execution_count": null,
   "metadata": {},
   "outputs": [],
   "source": []
  }
 ],
 "metadata": {
  "kernelspec": {
   "display_name": "Python 3",
   "language": "python",
   "name": "python3"
  },
  "language_info": {
   "codemirror_mode": {
    "name": "ipython",
    "version": 3
   },
   "file_extension": ".py",
   "mimetype": "text/x-python",
   "name": "python",
   "nbconvert_exporter": "python",
   "pygments_lexer": "ipython3",
   "version": "3.10.12"
  }
 },
 "nbformat": 4,
 "nbformat_minor": 2
}
